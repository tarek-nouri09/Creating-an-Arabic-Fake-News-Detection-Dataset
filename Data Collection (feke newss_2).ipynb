{
 "cells": [
  {
   "cell_type": "code",
   "execution_count": null,
   "metadata": {},
   "outputs": [],
   "source": [
    "from bs4 import BeautifulSoup\n",
    "from urllib.request import Request, urlopen\n",
    "import re\n",
    "import time\n",
    "\n",
    "alllinks = ''\n",
    "for i in range(98):\n",
    "    req = Request('https://fatabyyano.net/newsface/fake/page/'+str(i+1), headers={'User-Agent': 'Mozilla/5.0'})\n",
    "    html_page = urlopen(req).read()\n",
    "\n",
    "    soup = BeautifulSoup(html_page, 'html.parser')\n",
    "    mydivs = soup.find_all(\"div\", {\"class\": \"w-post-elm\"})\n",
    "    cpt = 0\n",
    "    for div in mydivs:\n",
    "        cpt = cpt+1\n",
    "        href = div.find('a')['href'] \n",
    "        alllinks = alllinks + \" \" + href\n",
    "print(len(alllinks.split(' ')))\n"
   ]
  },
  {
   "cell_type": "code",
   "execution_count": null,
   "metadata": {},
   "outputs": [],
   "source": [
    "splitedlinks = alllinks.split(' ')"
   ]
  },
  {
   "cell_type": "code",
   "execution_count": null,
   "metadata": {},
   "outputs": [],
   "source": [
    "from urllib.request import Request, urlopen\n",
    "import urllib.parse\n",
    "eList = []\n",
    "fakeData = []\n",
    "for i in range(len(splitedlinks)):\n",
    "    if splitedlinks[i] != '':\n",
    "        try:\n",
    "            url = splitedlinks[i]\n",
    "            url = urllib.parse.quote(url, safe=':/')\n",
    "            #print(splitedlinks[i])\n",
    "            req2 = Request(url, headers={'User-Agent': 'Mozilla/5.0'})\n",
    "            html_page2 = urlopen(req2).read()\n",
    "            soup = BeautifulSoup(html_page2, 'html.parser')\n",
    "            auto_divs = soup.find('div', {'class': 'ob-post-text'})\n",
    "            \n",
    "            res = auto_divs.find('blockquote')\n",
    "            if(res == None):\n",
    "                res = auto_divs.find('p')\n",
    "            #print(res.text.replace(\"\\n\", \"\"))\n",
    "            fakeData.append(res.text.replace(\"\\n\", \"\"))\n",
    "        except Exception as e:\n",
    "            eList.append(e)\n",
    "\n",
    "\n"
   ]
  },
  {
   "cell_type": "code",
   "execution_count": null,
   "metadata": {},
   "outputs": [],
   "source": [
    "fakeData.to_csv('azze.csv', index=False)\n"
   ]
  }
 ],
 "metadata": {
  "kernelspec": {
   "display_name": "Python 3",
   "language": "python",
   "name": "python3"
  },
  "language_info": {
   "name": "python",
   "version": "3.10.7"
  }
 },
 "nbformat": 4,
 "nbformat_minor": 2
}
