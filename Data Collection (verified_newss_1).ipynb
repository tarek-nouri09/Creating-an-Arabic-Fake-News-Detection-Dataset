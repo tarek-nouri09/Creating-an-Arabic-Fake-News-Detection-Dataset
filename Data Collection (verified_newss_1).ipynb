{
 "cells": [
  {
   "cell_type": "code",
   "execution_count": 18,
   "id": "9bc4d3f4",
   "metadata": {},
   "outputs": [
    {
     "name": "stdout",
     "output_type": "stream",
     "text": [
      "Requirement already satisfied: bs4 in c:\\users\\hp\\anaconda3\\lib\\site-packages (0.0.2)\n",
      "Requirement already satisfied: beautifulsoup4 in c:\\users\\hp\\anaconda3\\lib\\site-packages (from bs4) (4.12.2)\n",
      "Requirement already satisfied: soupsieve>1.2 in c:\\users\\hp\\anaconda3\\lib\\site-packages (from beautifulsoup4->bs4) (2.4)\n",
      "Note: you may need to restart the kernel to use updated packages.\n"
     ]
    }
   ],
   "source": [
    "pip install bs4"
   ]
  },
  {
   "cell_type": "code",
   "execution_count": 19,
   "id": "ed3466ce",
   "metadata": {},
   "outputs": [],
   "source": [
    "from bs4 import BeautifulSoup\n",
    "from urllib.request import Request, urlopen\n",
    "import re\n",
    "import pandas as pd "
   ]
  },
  {
   "cell_type": "code",
   "execution_count": 21,
   "id": "b2d0ca8f",
   "metadata": {},
   "outputs": [],
   "source": [
    "verifiednewss1 = []\n",
    "\n",
    "for i in range(1, 31):\n",
    "    link = \"https://www.youm7.com/Section/%D8%B3%D9%8A%D8%A7%D8%B3%D8%A9/319/\" + str(i)\n",
    "    req = Request(link, headers={'User-Agent': 'Mozilla/5.0'})\n",
    "    html_page = urlopen(req).read()\n",
    "    soup = BeautifulSoup(html_page, 'html.parser')\n",
    "    mydivs = soup.find_all(\"div\", {\"class\": \"col-xs-12 bigOneSec\"})\n",
    "\n",
    "    for i in mydivs:\n",
    "        verifiednewss1.append(i.find(\"p\").text)"
   ]
  },
  {
   "cell_type": "code",
   "execution_count": 22,
   "id": "87e322ba",
   "metadata": {},
   "outputs": [],
   "source": [
    "verifiednewss2 = []\n",
    " \n",
    "for i in range(1, 31):\n",
    "    link = \"https://www.youm7.com/Section/%D8%AA%D9%82%D8%A7%D8%B1%D9%8A%D8%B1-%D9%85%D8%B5%D8%B1%D9%8A%D8%A9/97/\" + str(i)\n",
    "    req = Request(link, headers={'User-Agent': 'Mozilla/5.0'})\n",
    "    html_page = urlopen(req).read()\n",
    "    soup = BeautifulSoup(html_page, 'html.parser')\n",
    "    mydivs = soup.find_all(\"div\", {\"class\": \"col-xs-12 bigOneSec\"})\n",
    "\n",
    "    for i in mydivs:\n",
    "        verifiednewss2.append(i.find(\"p\").text)"
   ]
  },
  {
   "cell_type": "code",
   "execution_count": 23,
   "id": "b912dddf",
   "metadata": {},
   "outputs": [],
   "source": [
    "verifiednewss3 = []\n",
    "\n",
    "for i in range(1, 31):\n",
    "    link = \"https://www.youm7.com/Section/%D8%AD%D9%88%D8%A7%D8%AF%D8%AB/203/\" + str(i)\n",
    "    req = Request(link, headers={'User-Agent': 'Mozilla/5.0'})\n",
    "    html_page = urlopen(req).read()\n",
    "    soup = BeautifulSoup(html_page, 'html.parser')\n",
    "    mydivs = soup.find_all(\"div\", {\"class\": \"col-xs-12 bigOneSec\"})\n",
    "\n",
    "    for i in mydivs:\n",
    "        verifiednewss3.append(i.find(\"p\").text)"
   ]
  },
  {
   "cell_type": "code",
   "execution_count": 35,
   "id": "09692139",
   "metadata": {},
   "outputs": [],
   "source": [
    "verifiednewss4 = []\n",
    "\n",
    "for i in range(1, 31):\n",
    "    link = \"https://www.youm7.com/Section/%D8%AA%D8%AD%D9%82%D9%8A%D9%82%D8%A7%D8%AA-%D9%88%D9%85%D9%84%D9%81%D8%A7%D8%AA/12/\" + str(i)\n",
    "    req = Request(link, headers={'User-Agent': 'Mozilla/5.0'})\n",
    "    html_page = urlopen(req).read()\n",
    "    soup = BeautifulSoup(html_page, 'html.parser')\n",
    "    mydivs = soup.find_all(\"div\", {\"class\": \"col-xs-12 bigOneSec\"})\n",
    "\n",
    "    for i in mydivs:\n",
    "        verifiednewss4.append(i.find(\"p\").text)"
   ]
  },
  {
   "cell_type": "code",
   "execution_count": 33,
   "id": "1ad4bc7a",
   "metadata": {},
   "outputs": [],
   "source": [
    "verifiednewss5 = []\n",
    "\n",
    "for i in range(1, 31):\n",
    "    link = \"https://www.youm7.com/Section/%D8%A7%D9%82%D8%AA%D8%B5%D8%A7%D8%AF-%D9%88%D8%A8%D9%88%D8%B1%D8%B5%D8%A9/297/\" + str(i)\n",
    "    req = Request(link, headers={'User-Agent': 'Mozilla/5.0'})\n",
    "    html_page = urlopen(req).read()\n",
    "    soup = BeautifulSoup(html_page, 'html.parser')\n",
    "    mydivs = soup.find_all(\"div\", {\"class\": \"col-xs-12 bigOneSec\"})\n",
    "\n",
    "    for i in mydivs:\n",
    "        verifiednewss5.append(i.find(\"p\").text)"
   ]
  },
  {
   "cell_type": "code",
   "execution_count": 39,
   "id": "fae3e635",
   "metadata": {},
   "outputs": [],
   "source": [
    "verifiednewss6 = []\n",
    "\n",
    "for i in range(1, 31):\n",
    "    link = \"https://www.youm7.com/Section/%D9%83%D8%B1%D8%A9-%D8%B9%D8%A7%D9%84%D9%85%D9%8A%D8%A9/332/\" + str(i)\n",
    "    req = Request(link, headers={'User-Agent': 'Mozilla/5.0'})\n",
    "    html_page = urlopen(req).read()\n",
    "    soup = BeautifulSoup(html_page, 'html.parser')\n",
    "    mydivs = soup.find_all(\"div\", {\"class\": \"col-xs-12 bigOneSec\"})\n",
    "\n",
    "    for i in mydivs:\n",
    "        verifiednewss6.append(i.find(\"p\").text)"
   ]
  },
  {
   "cell_type": "code",
   "execution_count": null,
   "id": "20c60f6b",
   "metadata": {},
   "outputs": [],
   "source": [
    "verifiednewss7 = []\n",
    "\n",
    "for i in range(31, 62):\n",
    "    link = \"https://www.youm7.com/Section/%D9%83%D8%B1%D8%A9-%D8%B9%D8%A7%D9%84%D9%85%D9%8A%D8%A9/332/\" + str(i)\n",
    "    req = Request(link, headers={'User-Agent': 'Mozilla/5.0'})\n",
    "    html_page = urlopen(req).read()\n",
    "    soup = BeautifulSoup(html_page, 'html.parser')\n",
    "    mydivs = soup.find_all(\"div\", {\"class\": \"col-xs-12 bigOneSec\"})\n",
    "\n",
    "    for i in mydivs:\n",
    "        verifiednewss7.append(i.find(\"p\").text)"
   ]
  },
  {
   "cell_type": "code",
   "execution_count": 59,
   "id": "8e457e79",
   "metadata": {},
   "outputs": [],
   "source": [
    "verifiednewss = verifiednewss1 + verifiednewss2 + verifiednewss3 + verifiednewss4 + verifiednewss5 + verifiednewss6 + verifiednewss7\n",
    "verifiednewss = [[x, '1'] for x in verifiednewss]\n",
    "df = pd.DataFrame(verifiednewss, columns=['News', 'State'])\n",
    "df.to_csv('verified_newss_8400.csv', index=False)"
   ]
  },
  {
   "cell_type": "code",
   "execution_count": 60,
   "id": "72e1768a",
   "metadata": {},
   "outputs": [
    {
     "data": {
      "text/html": [
       "<div>\n",
       "<style scoped>\n",
       "    .dataframe tbody tr th:only-of-type {\n",
       "        vertical-align: middle;\n",
       "    }\n",
       "\n",
       "    .dataframe tbody tr th {\n",
       "        vertical-align: top;\n",
       "    }\n",
       "\n",
       "    .dataframe thead th {\n",
       "        text-align: right;\n",
       "    }\n",
       "</style>\n",
       "<table border=\"1\" class=\"dataframe\">\n",
       "  <thead>\n",
       "    <tr style=\"text-align: right;\">\n",
       "      <th></th>\n",
       "      <th>News</th>\n",
       "      <th>State</th>\n",
       "    </tr>\n",
       "  </thead>\n",
       "  <tbody>\n",
       "    <tr>\n",
       "      <th>0</th>\n",
       "      <td>قالت النائبة سماء سليمان، وكيل لجنة الشؤون الخ...</td>\n",
       "      <td>1</td>\n",
       "    </tr>\n",
       "    <tr>\n",
       "      <th>1</th>\n",
       "      <td>يعمل معبر رفح بأقصى طاقة له في عيد الفطر المبا...</td>\n",
       "      <td>1</td>\n",
       "    </tr>\n",
       "    <tr>\n",
       "      <th>2</th>\n",
       "      <td>أفادت قناة \"القاهرة الإخبارية\" أن مصر تواصل فت...</td>\n",
       "      <td>1</td>\n",
       "    </tr>\n",
       "    <tr>\n",
       "      <th>3</th>\n",
       "      <td>تواصل مصر فتح معبر رفح لتسهيل دخول المساعدات ل...</td>\n",
       "      <td>1</td>\n",
       "    </tr>\n",
       "    <tr>\n",
       "      <th>4</th>\n",
       "      <td>اعتاد التحالف الوطنى للعمل الأهلى التنموي مشار...</td>\n",
       "      <td>1</td>\n",
       "    </tr>\n",
       "    <tr>\n",
       "      <th>...</th>\n",
       "      <td>...</td>\n",
       "      <td>...</td>\n",
       "    </tr>\n",
       "    <tr>\n",
       "      <th>8395</th>\n",
       "      <td>يطمح النجم المصري محمد صلاح، لتحقيق لقبه الثام...</td>\n",
       "      <td>1</td>\n",
       "    </tr>\n",
       "    <tr>\n",
       "      <th>8396</th>\n",
       "      <td>كشفت تقارير صحفية أن فريق طرابزون سبور يعول كث...</td>\n",
       "      <td>1</td>\n",
       "    </tr>\n",
       "    <tr>\n",
       "      <th>8397</th>\n",
       "      <td>يشهد اليوم الأحد 25 - 2 - 2024 عددا من المباري...</td>\n",
       "      <td>1</td>\n",
       "    </tr>\n",
       "    <tr>\n",
       "      <th>8398</th>\n",
       "      <td>ينتظر المصري محمود حسن تريزيجيه قياده فريقه طر...</td>\n",
       "      <td>1</td>\n",
       "    </tr>\n",
       "    <tr>\n",
       "      <th>8399</th>\n",
       "      <td>شهد أمس السبت 24 - 2 - 2024 عددا من المباريات ...</td>\n",
       "      <td>1</td>\n",
       "    </tr>\n",
       "  </tbody>\n",
       "</table>\n",
       "<p>8400 rows × 2 columns</p>\n",
       "</div>"
      ],
      "text/plain": [
       "                                                   News  State\n",
       "0     قالت النائبة سماء سليمان، وكيل لجنة الشؤون الخ...      1\n",
       "1     يعمل معبر رفح بأقصى طاقة له في عيد الفطر المبا...      1\n",
       "2     أفادت قناة \"القاهرة الإخبارية\" أن مصر تواصل فت...      1\n",
       "3     تواصل مصر فتح معبر رفح لتسهيل دخول المساعدات ل...      1\n",
       "4     اعتاد التحالف الوطنى للعمل الأهلى التنموي مشار...      1\n",
       "...                                                 ...    ...\n",
       "8395  يطمح النجم المصري محمد صلاح، لتحقيق لقبه الثام...      1\n",
       "8396  كشفت تقارير صحفية أن فريق طرابزون سبور يعول كث...      1\n",
       "8397  يشهد اليوم الأحد 25 - 2 - 2024 عددا من المباري...      1\n",
       "8398  ينتظر المصري محمود حسن تريزيجيه قياده فريقه طر...      1\n",
       "8399  شهد أمس السبت 24 - 2 - 2024 عددا من المباريات ...      1\n",
       "\n",
       "[8400 rows x 2 columns]"
      ]
     },
     "execution_count": 60,
     "metadata": {},
     "output_type": "execute_result"
    }
   ],
   "source": [
    "data_set = pd.read_csv('verified_newss_8400.csv')\n",
    "data_set"
   ]
  },
  {
   "cell_type": "code",
   "execution_count": null,
   "id": "f6e13c43",
   "metadata": {},
   "outputs": [],
   "source": []
  }
 ],
 "metadata": {
  "kernelspec": {
   "display_name": "Python 3 (ipykernel)",
   "language": "python",
   "name": "python3"
  },
  "language_info": {
   "codemirror_mode": {
    "name": "ipython",
    "version": 3
   },
   "file_extension": ".py",
   "mimetype": "text/x-python",
   "name": "python",
   "nbconvert_exporter": "python",
   "pygments_lexer": "ipython3",
   "version": "3.11.5"
  }
 },
 "nbformat": 4,
 "nbformat_minor": 5
}
